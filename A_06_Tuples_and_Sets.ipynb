{
 "cells": [
  {
   "cell_type": "markdown",
   "metadata": {},
   "source": [
    "# Assignments for \"Dictionaries\" "
   ]
  },
  {
   "cell_type": "markdown",
   "metadata": {},
   "source": [
    "- Create a tuple named \"week\" containing weekdays."

weekDays = ("Monday","Tuesday","Wednesday","Thursday","Friday","Saturday","Sunday")

   ]
  },
  {
   "cell_type": "code",
   "execution_count": null,
   "metadata": {},
   "outputs": [],
   "source": []
  },
  {
   "cell_type": "markdown",
   "metadata": {},
   "source": [
    "- Create a set named \"fruits\" containing followings: apple, mango, orange "
   ]
Fruits = ("Apple","Mango","Orange")
print(Fruits)

  },
  {
   "cell_type": "code",
   "execution_count": null,
   "metadata": {},
   "outputs": [],
   "source": []
  },
  {
   "cell_type": "markdown",
   "metadata": {},
   "source": [
    "- Create a new set named \"new_fruits\" containing followings: cherry, peach, apple, mango"

new_Fruits = ("Cherry","Peach","Apple","Mango")
print(new_Fruits)



   ]
  },
  {
   "cell_type": "code",
   "execution_count": null,
   "metadata": {},
   "outputs": [],
   "source": []
  },
  {
   "cell_type": "markdown",
   "metadata": {},
   "source": [
    "- Find the fruits which are in new_fruits but not in fruits."
Fruits = {"Apple","Mango","Orange"}
new_Fruits = {"Cherry","Peach","Apple","Mango"}

print(Fruits.difference(new_Fruits))

   ]
  },
  {
   "cell_type": "code",
   "execution_count": null,
   "metadata": {},
   "outputs": [],
   "source": []
  },
  {
   "cell_type": "markdown",
   "metadata": {},
   "source": [
    "- Find the fruits which are in both new_fruits and fruits."

Fruits = {"Apple","Mango","Orange"}
new_Fruits = {"Cherry","Peach","Apple","Mango"}

print(Fruits.intersection(new_Fruits))

   ]
  },
  {
   "cell_type": "code",
   "execution_count": null,
   "metadata": {},
   "outputs": [],
   "source": []
  }
 ],
 "metadata": {
  "kernelspec": {
   "display_name": "Python 3",
   "language": "python",
   "name": "python3"
  },
  "language_info": {
   "codemirror_mode": {
    "name": "ipython",
    "version": 3
   },
   "file_extension": ".py",
   "mimetype": "text/x-python",
   "name": "python",
   "nbconvert_exporter": "python",
   "pygments_lexer": "ipython3",
   "version": "3.8.2"
  }
 },
 "nbformat": 4,
 "nbformat_minor": 4
}
