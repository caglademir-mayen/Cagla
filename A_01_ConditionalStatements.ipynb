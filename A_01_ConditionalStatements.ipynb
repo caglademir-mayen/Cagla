{
 "cells": [
  {
   "cell_type": "markdown",
   "metadata": {},
   "source": [
    "# Assignments for \"Conditional Statements\""
   ]
  },
  {
   "cell_type": "markdown",
   "metadata": {},
   "source": [
    "**(1)** Please get Celcius or Fahrenheit degrees from users and type a code to convert these heat units to each other.  \n",
    "    \n",
    "    For conversion, please use this formula: C = (5/9) * (F - 32)\n",
    "    \n",
    "        Example : \"40C\" --> \"104F\"\n",
    "                  \"52F\" --> \"11.1C\""
   ]

temp = input("Input the  temperature you like to convert?")
degree = int(temp[:-1])
i_convention = temp[-1]

if i_convention.upper() == "C":
  result = int(round((9 * degree) / 5))
  o_convention = "Fahrenheit"
elif i_convention.upper() == "F":
  result = int(round((degree - 32) * 5 / 9))
  o_convention = "Celsius"
else:
  print("Input proper convention.")
  quit()
print("The temperature in", o_convention, "is", result, "degrees.")

  },
  {
   "cell_type": "code",
   "execution_count": null,
   "metadata": {},
   "outputs": [],
   "source": []
  },
  {
   "cell_type": "markdown",
   "metadata": {},
   "source": [
    "**(2)** A company decided to give a bonus of 5% to the employees if his/her year of service is more than 5 years.\n",
    "Ask the user for their salary and year of service and print the net bonus amount."
   ]

print("Enter salary")
salary = int(input())
print("Enter year of service")
yos = int(input())
if yos>5:
print("Bonus is",salary*.05)


  },
  {
   "cell_type": "code",
   "execution_count": null,
   "metadata": {},
   "outputs": [],
   "source": []
  },
  {
   "cell_type": "markdown",
   "metadata": {},
   "source": [
    "**(3)** Take input of ages of 3 people by the user and determine the oldest and youngest among them."
   ]

print("Enter first age")
first = input()
print ("Enter second age")
second = input()
print ("third age")
third = input()

if first >= second and first >= third:
      print("Oldest is",first)
elif second >= first and second >= third:
      print ("Oldest is",second)
elif third >= first and third >= second:
      print ("Oldest is",third)
else:
  print ("All are equal")

  },
  {
   "cell_type": "code",
   "execution_count": null,
   "metadata": {},
   "outputs": [],
   "source": []
  },
  {
   "cell_type": "markdown",
   "metadata": {},
   "source": [
    "**(4)** A student will not be allowed to attend to the exam if his / her attendance to classes is less than 75%. Take followings input from the user:\n",
    "- Number of classes held,\n",
    "- Number of classes attended.\n",
    "   \n",
    "    Then, print the percentage of classes attended and whether the student is allowed to attend in an exam or not."
   ]

print ("Number of classes held")
noh = int(input())
print ("Number of classes attended")
noa = int(input())
atten = (noa/float(noh))*100
print ("Attendence is",atten)
if atten >= 75:
  print ("You are allowed to sit in exam")
else:
  print ("Sorry, you are not allowed. Attend more classes from next time.")

  },
  {
   "cell_type": "code",
   "execution_count": null,
   "metadata": {},
   "outputs": [],
   "source": []
  },
  {
   "cell_type": "markdown",
   "metadata": {},
   "source": [
    "**(5)** In this exercise, you will create a program that reads a letter of the alphabet from the user. According to the answer:\n",
    "\n",
    "- If the user enters `a, e, i, o, u`, then your program should display a message indicating that the entered letter is a vowel.\n",
    "- If the user enters `y`, then your program should display a message indicating that y is sometimes a vowel and sometimes a consonant.\n",
    "- Otherwise, your program should display a message indicating that the letter is a consonant."
   ]
l = input("Input a letter of the alphabet: ")

if l in ('a', 'e', 'i', 'o', 'u'):
	print("%s is a vowel." % l)
elif l == 'y':
	print("Sometimes letter y stand for vowel, sometimes stand for consonant.")
else:
	print("%s is a consonant." % l) 

  },
  {
   "cell_type": "code",
   "execution_count": null,
   "metadata": {},
   "outputs": [],
   "source": []
  }
 ],
 "metadata": {
  "kernelspec": {
   "display_name": "Python 3",
   "language": "python",
   "name": "python3"
  },
  "language_info": {
   "codemirror_mode": {
    "name": "ipython",
    "version": 3
   },
   "file_extension": ".py",
   "mimetype": "text/x-python",
   "name": "python",
   "nbconvert_exporter": "python",
   "pygments_lexer": "ipython3",
   "version": "3.8.2"
  }
 },
 "nbformat": 4,
 "nbformat_minor": 4
}
