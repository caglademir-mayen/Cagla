{
 "cells": [
  {
   "cell_type": "markdown",
   "metadata": {},
   "source": [
    "# Assignments for \"Lists\" "
   ]
  },
  {
   "cell_type": "markdown",
   "metadata": {},
   "source": [
    "- Write a code to compute the sum of the two lowest numbers and the two highest numbers in the following list.\n",
    "\n",
    "        my_list = [34, 56, 76, 45, 2, 12, 67, 98, 37, 54, 66]"

Answer : my_list = [34, 56, 76, 45, 2, 12, 67, 98, 37, 54, 66]
a=min (my_list)
my_list.remove(a)
b=min(my_list)
print(a+b)

my_list = [34, 56, 76, 45, 2, 12, 67, 98, 37, 54, 66]
a=max (my_list)
my_list.remove(a)
b=max(my_list)
print(a+b)

   ]
  },
  {
   "cell_type": "code",
   "execution_count": null,
   "metadata": {},
   "outputs": [],
   "source": []
  },
  {
   "cell_type": "markdown",
   "metadata": {},
   "source": [
    "- The following two lists contain student names and scores. Write a code that gets the name from the user and prints the score of that student.\n",
    "\n",
    "        names = [\"David\", \"Michael\", \"John\", \"James\", \"Greg\", \"Mark\", \"William\", \"Richard\", \"Thomas\", \"Steven\", \n",
    "                 \"Mary\", \"Susan\", \"Maria\", \"Karen\", \"Lisa\", \"Linda\", \"Donna\", \"Patricia\", \"Debra\", \"Eric\"]\n",
    "\n",
    "        scores = [99, 87, 78, 86, 68, 94, 76, 97, 56, 98, 76, 87, 79, 90, 73, 93, 82, 69, 97, 98]"

 names = ["David","Michael","John","James","Greg","Mark","William", "Richard", "Thomas", "Steven","Mary","Susan", "Maria", "Karen", "Lisa", "Linda", "Donna", "Patricia", "Debra","Eric"]
 scores = [99, 87, 78, 86, 68, 94, 76, 97, 56, 98, 76, 87, 79, 90, 73, 93, 82, 69, 97, 98]

names.extend(scores)
print(scores)


   ]
  },
  {
   "cell_type": "code",
   "execution_count": null,
   "metadata": {},
   "outputs": [],
   "source": []
  },
  {
   "cell_type": "markdown",
   "metadata": {},
   "source": [
    "- By using the two lists above, what is the maximum score and how many students got that score?"

 names = ["David","Michael","John","James","Greg","Mark","William", "Richard", "Thomas", "Steven","Mary","Susan", "Maria", "Karen", "Lisa", "Linda", "Donna", "Patricia", "Debra","Eric"]
 scores = [99, 87, 78, 86, 68, 94, 76, 97, 56, 98, 76, 87, 79, 90, 73, 93, 82, 69, 97, 98]
a= max(scores)
print(a)
scores.count(a)

   ]
  },
  {
   "cell_type": "code",
   "execution_count": null,
   "metadata": {},
   "outputs": [],
   "source": []
  },
  {
   "cell_type": "markdown",
   "metadata": {},
   "source": [
    "- We can confuse about how many days a month is. Create a list to handle it. You will have month names and day counts in your list together as a nested list."

Jan = ['31']
Feb = ['28']
Mar = ['31']
Apr = ['30']
May =['31']
Jun =['30']
Jul = ['31']
Aug = ['31']
Sep = ['30']
Oct = ['31']
Nov = ['30']
Dec = ['31']
Day_by_Months = [Jan,Feb,Mar,Apr,May,Jun,Jul,Aug,Sep,Oct,Nov,Dec]
print(Day_by_Months)

   ]
  },
  {
   "cell_type": "code",
   "execution_count": null,
   "metadata": {},
   "outputs": [],
   "source": []
  },
  {
   "cell_type": "markdown",
   "metadata": {},
   "source": [
    "- Now create lists of months for each season. Get month names and day counts from the list that you create before with slicing. Name the lists with seasons."
   ]
  },
  {
   "cell_type": "code",
   "execution_count": null,
   "metadata": {},
   "outputs": [],
   "source": []

Jan = ['31']
Feb = ['28']
Mar = ['31']
Apr = ['30']
May =['31']
Jun =['30']
Jul = ['31']
Aug = ['31']
Sep = ['30']
Oct = ['31']
Nov = ['30']
Dec = ['31']
Day_by_Months = [Jan,Feb,Mar,Apr,May,Jun,Jul,Aug,Sep,Oct,Nov,Dec]
print(Day_by_Months)


spring = ['March','April','May']
summer = ['June','July','Aug']
fall = ['Sep','Oct','nov']
winter = ['Dec','Jan','feb']
Monhts_by_season = [spring, summer, fall, winter]
print(Monhts_by_season)

spring = ['31','30','31']
summer = ['30','31','31']
fall = ['30','31','30']
winter = ['31','31','28']
day_by_season = [spring, summer, fall, winter]
print(day_by_season)


  },
  {
   "cell_type": "markdown",
   "metadata": {},
   "source": [
    "- Finally, from the list in the previous question, calculate how many days the summer season lasts."
   ]
  },
  {
   "cell_type": "code",
   "execution_count": null,
   "metadata": {},
   "outputs": [],
   "source": []
  }
 ],
 "metadata": {
  "kernelspec": {
   "display_name": "Python 3",
   "language": "python",
   "name": "python3"
  },
  "language_info": {
   "codemirror_mode": {
    "name": "ipython",
    "version": 3
   },
   "file_extension": ".py",
   "mimetype": "text/x-python",
   "name": "python",
   "nbconvert_exporter": "python",
   "pygments_lexer": "ipython3",
   "version": "3.8.2"
  }
 },
 "nbformat": 4,
 "nbformat_minor": 4
}
